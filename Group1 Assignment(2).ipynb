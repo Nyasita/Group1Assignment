{
 "cells": [
  {
   "cell_type": "markdown",
   "metadata": {},
   "source": [
    "\n",
    "# Write a function to convert celcius to fahrenheit\n"
   ]
  },
  {
   "cell_type": "code",
   "execution_count": 10,
   "metadata": {},
   "outputs": [
    {
     "name": "stdin",
     "output_type": "stream",
     "text": [
      "please enter temperatures in celcius:  25\n"
     ]
    },
    {
     "name": "stdout",
     "output_type": "stream",
     "text": [
      "The conversion of 25.0 degrees celcius is 77.0 degrees fahrenheit\n"
     ]
    }
   ],
   "source": [
    "def temp_converter(celcius):\n",
    "    fahrenheit=(celcius*9/5)+32\n",
    "    return fahrenheit\n",
    "celcius=float(input(\"please enter temperatures in celcius: \"))\n",
    "fahr=temp_converter(celcius)\n",
    "print(f'The conversion of {celcius} degrees celcius is {fahr} degrees fahrenheit')\n"
   ]
  },
  {
   "cell_type": "markdown",
   "metadata": {},
   "source": [
    "# Write a function that given weight and height returns the BMI of the person"
   ]
  },
  {
   "cell_type": "code",
   "execution_count": 11,
   "metadata": {},
   "outputs": [
    {
     "name": "stdin",
     "output_type": "stream",
     "text": [
      "please enter your weight in kgs:  65\n",
      "please enter your height in m:  1.5\n"
     ]
    },
    {
     "name": "stdout",
     "output_type": "stream",
     "text": [
      "Your BMI is 28.89\n"
     ]
    }
   ],
   "source": [
    "def BMI(weight,height):\n",
    "    BMI=weight/height**2\n",
    "    return BMI\n",
    "weight=float(input(\"please enter your weight in kgs: \"))\n",
    "height=float(input(\"please enter your height in m: \"))\n",
    "y_bmi=BMI(weight,height)\n",
    "print('Your BMI is %.2f' %(y_bmi))\n"
   ]
  },
  {
   "cell_type": "markdown",
   "metadata": {},
   "source": [
    "# Create a program that asks the user to enter their name and their age. Print out a message addressed to them that tells them the year that they will turn 100 years old.\n"
   ]
  },
  {
   "cell_type": "code",
   "execution_count": 17,
   "metadata": {},
   "outputs": [
    {
     "name": "stdin",
     "output_type": "stream",
     "text": [
      "Please enter your name:  ken\n",
      "Please enter your age:  28\n"
     ]
    },
    {
     "name": "stdout",
     "output_type": "stream",
     "text": [
      "Hi KEN, God willing you will be 100 years in 2092! \n"
     ]
    }
   ],
   "source": [
    "def age_100_years(age):\n",
    "    years=(2020-age)+100\n",
    "    return years\n",
    "name=(input(\"Please enter your name: \"))\n",
    "age=int(input(\"Please enter your age: \"))\n",
    "Years=age_100_years(age)\n",
    "print(\"Hi %s, God willing you will be 100 years in %s! \" %(name.upper(),Years))\n"
   ]
  },
  {
   "cell_type": "markdown",
   "metadata": {},
   "source": [
    "# Write a function that returns the maximum of two numbers\n"
   ]
  },
  {
   "cell_type": "code",
   "execution_count": 19,
   "metadata": {},
   "outputs": [
    {
     "name": "stdin",
     "output_type": "stream",
     "text": [
      "Enter a number:  65\n",
      "Enter another number:  45\n"
     ]
    },
    {
     "name": "stdout",
     "output_type": "stream",
     "text": [
      "65 is greater than 45\n"
     ]
    }
   ],
   "source": [
    "def max_two_num(first_num,second_num):\n",
    "    if first_num > second_num:\n",
    "        print(f'{first_num} is greater than {second_num}')\n",
    "    else:\n",
    "        print(f'{second_num} is greater than {first_num}')\n",
    "    return \n",
    "first_num = int(input(\"Enter a number: \"))\n",
    "second_num = int(input(\"Enter another number: \"))\n",
    "max_two_num(first_num,second_num)"
   ]
  },
  {
   "cell_type": "code",
   "execution_count": 23,
   "metadata": {},
   "outputs": [
    {
     "name": "stdin",
     "output_type": "stream",
     "text": [
      "Enter a number:  65\n",
      "Enter another number:  45\n"
     ]
    },
    {
     "name": "stdout",
     "output_type": "stream",
     "text": [
      "Max = 65\n"
     ]
    }
   ],
   "source": [
    "def num(first_num,second_num):\n",
    "    i=[first_num,second_num]\n",
    "    return\n",
    "first_num = input(\"Enter a number: \")\n",
    "second_num = input(\"Enter another number: \")\n",
    "i=[first_num,second_num]\n",
    "num(first_num,second_num) \n",
    "print('Max =',max(i))\n",
    "       \n"
   ]
  },
  {
   "cell_type": "markdown",
   "metadata": {},
   "source": [
    "# Write a function called fizz_buzz that takes a number. - If the number is divisible by 3, it should return “Fizz”. - If it is divisible by 5, it should return “Buzz”. - If it is divisible by both 3 and 5, it should return “FizzBuzz”. Otherwise, it should return the same number.\n"
   ]
  },
  {
   "cell_type": "code",
   "execution_count": 25,
   "metadata": {},
   "outputs": [
    {
     "name": "stdin",
     "output_type": "stream",
     "text": [
      "Please enter your number:  72\n"
     ]
    },
    {
     "name": "stdout",
     "output_type": "stream",
     "text": [
      "Fizz\n"
     ]
    }
   ],
   "source": [
    "def fizz_buzz(num):\n",
    "    if num%3==0 and num%5==0:\n",
    "        print(\"FizzBuzz\")\n",
    "    elif num%3==0:\n",
    "        print(\"Fizz\")\n",
    "    elif num%5==0:\n",
    "        print(\"Buzz\")\n",
    "    else:\n",
    "        print(\"num\")\n",
    "    return \n",
    "num=float(input(\"Please enter your number: \"))\n",
    "fizz_buzz(num)\n",
    "    \n",
    "    "
   ]
  },
  {
   "cell_type": "markdown",
   "metadata": {},
   "source": [
    "# Write a function for checking the speed of drivers. This function should have one parameter: speed. - If speed is less than 70, it should print “Ok”. - Otherwise, for every 5km above the speed limit (70), it should give the driver one demerit point and print the total number of demerit points. For example, if the speed is 80, it should print: “Points: 2”. - If the driver gets more than 12 points, the function should print: “License suspended”"
   ]
  },
  {
   "cell_type": "code",
   "execution_count": 28,
   "metadata": {},
   "outputs": [
    {
     "name": "stdin",
     "output_type": "stream",
     "text": [
      "please input the speed:  75\n"
     ]
    },
    {
     "name": "stdout",
     "output_type": "stream",
     "text": [
      "Your demerit points: 1.0\n"
     ]
    },
    {
     "data": {
      "text/plain": [
       "75.0"
      ]
     },
     "execution_count": 28,
     "metadata": {},
     "output_type": "execute_result"
    }
   ],
   "source": [
    "def speed_of_drivers(speed):\n",
    "    if speed<=70:\n",
    "        print(\"ok\")\n",
    "    else: \n",
    "        points=(speed-70)//5\n",
    "        if points<=12:\n",
    "            print(\"Your demerit points: \" + str(points))\n",
    "        else:\n",
    "            print(\"licence suspended\")\n",
    "    return  \n",
    "speed=float(input(\"please input the speed: \"))\n",
    "speed_of_drivers(speed)"
   ]
  },
  {
   "cell_type": "code",
   "execution_count": 30,
   "metadata": {},
   "outputs": [
    {
     "name": "stdin",
     "output_type": "stream",
     "text": [
      "Give speed:  75\n"
     ]
    },
    {
     "name": "stdout",
     "output_type": "stream",
     "text": [
      "You have 1 demerit points\n"
     ]
    }
   ],
   "source": [
    "def DriverSpeed(speed):\n",
    "    if speed <70:\n",
    "        print (\"OK\")\n",
    "    elif speed>70 and (float(speed-70)//5)>12:\n",
    "        print (\"licence suspended\")\n",
    "    else:\n",
    "        print (f'You have {(speed-70)//5} demerit points')\n",
    "    return\n",
    "speed=int(input(\"Give speed: \"))\n",
    "DriverSpeed(speed)       "
   ]
  },
  {
   "cell_type": "markdown",
   "metadata": {},
   "source": [
    "# Write a function called showNumbers that takes a parameter called limit. It should print all the numbers between 0 and limit with a label to identify the even and odd numbers. For example, if the limit is 3, it should print: - 0 EVEN - 1 ODD - 2 EVEN - 3 ODD\n"
   ]
  },
  {
   "cell_type": "code",
   "execution_count": 32,
   "metadata": {},
   "outputs": [
    {
     "name": "stdin",
     "output_type": "stream",
     "text": [
      "Please enter your limit:  13\n"
     ]
    },
    {
     "name": "stdout",
     "output_type": "stream",
     "text": [
      "0 - EVEN\n",
      "1 - ODD\n",
      "2 - EVEN\n",
      "3 - ODD\n",
      "4 - EVEN\n",
      "5 - ODD\n",
      "6 - EVEN\n",
      "7 - ODD\n",
      "8 - EVEN\n",
      "9 - ODD\n",
      "10 - EVEN\n",
      "11 - ODD\n",
      "12 - EVEN\n",
      "13 - ODD\n"
     ]
    }
   ],
   "source": [
    "def showNumbers(limit):\n",
    "    for i in range(0,limit+1):\n",
    "        if i%2==0:\n",
    "            print(f'{i} - EVEN')\n",
    "        else:\n",
    "            print(f'{i} - ODD')\n",
    "    return\n",
    "limit=int(input(\"Please enter your limit: \"))\n",
    "showNumbers(limit)\n",
    "        "
   ]
  },
  {
   "cell_type": "markdown",
   "metadata": {},
   "source": [
    "# Write a function that returns the sum of multiples of 3 and 5 between 0 and limit (parameter). For example, if limit is 20, it should return the sum of 3, 5, 6, 9, 10, 12, 15, 18, 20."
   ]
  },
  {
   "cell_type": "code",
   "execution_count": 33,
   "metadata": {},
   "outputs": [
    {
     "name": "stdin",
     "output_type": "stream",
     "text": [
      "Please enter your limit 20\n"
     ]
    },
    {
     "name": "stdout",
     "output_type": "stream",
     "text": [
      "3\n",
      "5\n",
      "6\n",
      "9\n",
      "10\n",
      "12\n",
      "15\n",
      "18\n",
      "20\n",
      "The sum of the multiples is 98\n"
     ]
    }
   ],
   "source": [
    "def sum_of_multiples_3_5(limit):\n",
    "    sum=0\n",
    "    for i in range (1,limit+1):\n",
    "        if i%3==0 or i%5==0:\n",
    "            print (i)\n",
    "            sum +=i\n",
    "    print(f'The sum of the multiples is {sum}')\n",
    "    return\n",
    "limit=int(input(\"Please enter your limit\")) \n",
    "sum_of_multiples_3_5(limit)"
   ]
  },
  {
   "cell_type": "markdown",
   "metadata": {},
   "source": [
    "# Write a function called show_stars(rows)"
   ]
  },
  {
   "cell_type": "code",
   "execution_count": 34,
   "metadata": {},
   "outputs": [
    {
     "name": "stdin",
     "output_type": "stream",
     "text": [
      "Please enter the maximum number of stars you want to print:  5\n"
     ]
    },
    {
     "name": "stdout",
     "output_type": "stream",
     "text": [
      "\n",
      "*\n",
      "**\n",
      "***\n",
      "****\n",
      "*****\n"
     ]
    }
   ],
   "source": [
    "def Show_stars(rows):\n",
    "    for i in range(0,rows+1):\n",
    "        print ('*'*i)\n",
    "    return\n",
    "rows=int(input(\"Please enter the maximum number of stars you want to print: \"))\n",
    "Show_stars(rows)        "
   ]
  },
  {
   "cell_type": "code",
   "execution_count": 35,
   "metadata": {},
   "outputs": [
    {
     "name": "stdin",
     "output_type": "stream",
     "text": [
      "Please enter the maximum number of stars you'd like to print:  5\n"
     ]
    },
    {
     "name": "stdout",
     "output_type": "stream",
     "text": [
      "\n",
      "*\n",
      "**\n",
      "***\n",
      "****\n",
      "*****\n"
     ]
    }
   ],
   "source": [
    "def show_stars():\n",
    "    i=0\n",
    "    while i<=rows:\n",
    "        print ('*'*i)\n",
    "        i=i+1\n",
    "    return\n",
    "rows=int(input(\"Please enter the maximum number of stars you'd like to print: \"))\n",
    "show_stars()"
   ]
  },
  {
   "cell_type": "markdown",
   "metadata": {},
   "source": [
    "# Write a function that prints all the prime numbers between 0 and limit where limit is a parameter."
   ]
  },
  {
   "cell_type": "code",
   "execution_count": 36,
   "metadata": {},
   "outputs": [
    {
     "name": "stdin",
     "output_type": "stream",
     "text": [
      "Please enter you limit:  20\n"
     ]
    },
    {
     "name": "stdout",
     "output_type": "stream",
     "text": [
      "2\n",
      "3\n",
      "5\n",
      "7\n",
      "11\n",
      "13\n",
      "17\n",
      "19\n"
     ]
    }
   ],
   "source": [
    "def Prime_numbers():\n",
    "    for i in range(0,num):\n",
    "        if i>1:\n",
    "            for j in range(2,i):\n",
    "                if i%j==0:\n",
    "                    break\n",
    "            else:\n",
    "                print(i)\n",
    "    return\n",
    "num=int(input(\"Please enter you limit: \"))\n",
    "Prime_numbers()\n",
    "    "
   ]
  },
  {
   "cell_type": "code",
   "execution_count": null,
   "metadata": {},
   "outputs": [],
   "source": []
  }
 ],
 "metadata": {
  "kernelspec": {
   "display_name": "Python 3",
   "language": "python",
   "name": "python3"
  },
  "language_info": {
   "codemirror_mode": {
    "name": "ipython",
    "version": 3
   },
   "file_extension": ".py",
   "mimetype": "text/x-python",
   "name": "python",
   "nbconvert_exporter": "python",
   "pygments_lexer": "ipython3",
   "version": "3.7.8"
  }
 },
 "nbformat": 4,
 "nbformat_minor": 4
}
